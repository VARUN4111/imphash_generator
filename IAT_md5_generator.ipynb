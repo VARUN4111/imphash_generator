{
 "cells": [
  {
   "cell_type": "code",
   "execution_count": 1,
   "id": "56728d11-9831-423b-b8f1-f55157522b3e",
   "metadata": {},
   "outputs": [
    {
     "name": "stdout",
     "output_type": "stream",
     "text": [
      "MD5 Hash: 7bc5aefd7566b24dabbb87a067f9c952\n"
     ]
    }
   ],
   "source": [
    "\"\"\" This script will do the following: \n",
    "        Resolving ordinals to function names when they appear,\n",
    "        Converting both DLL names and function names to all lowercase,\n",
    "        Removing the file extensions from imported module names,\n",
    "        Building and storing the lowercased string in an ordered list,\n",
    "        Generating the MD5 hash of the ordered list \"\"\"\n",
    "\n",
    "import pefile\n",
    "import hashlib\n",
    "\n",
    "def resolve_ordinals(pe):\n",
    "    \"\"\"\n",
    "    Resolve ordinals to function names.\n",
    "    \"\"\"\n",
    "    for entry in pe.DIRECTORY_ENTRY_IMPORT:\n",
    "        module_name = entry.dll.decode('utf-8').lower().split('.')[0]  # Convert to lowercase and remove extension\n",
    "        for imp in entry.imports:\n",
    "            if imp.name is None:\n",
    "                imp.name = f\"ord_{imp.ordinal}\"  # Resolve ordinals\n",
    "        entry.dll = module_name.encode('utf-8')\n",
    "\n",
    "def extract_imports(file_path):\n",
    "    \"\"\"\n",
    "    Extract imports from a binary file (.exe).\n",
    "    \"\"\"\n",
    "    pe = pefile.PE(file_path)\n",
    "    resolve_ordinals(pe)\n",
    "    \n",
    "    imports = []\n",
    "    for entry in pe.DIRECTORY_ENTRY_IMPORT:\n",
    "        module_name = entry.dll.decode('utf-8').lower()\n",
    "        functions = [imp.name.decode('utf-8').lower() for imp in entry.imports]\n",
    "        imports.append((module_name, functions))\n",
    "    \n",
    "    return imports\n",
    "\n",
    "def generate_md5(imports):\n",
    "    \"\"\"\n",
    "    Generate MD5 hash of the ordered list of lowercased DLL names and function names.\n",
    "    \"\"\"\n",
    "    ordered_list = sorted([f\"{module_name}|{function}\" for module_name, functions in imports for function in functions])\n",
    "    md5 = hashlib.md5('\\n'.join(ordered_list).encode()).hexdigest()\n",
    "    return md5\n",
    "\n",
    "def main(file_path):\n",
    "    \"\"\"\n",
    "    Main function to execute the script.\n",
    "    \"\"\"\n",
    "    imports = extract_imports(file_path)\n",
    "    md5_hash = generate_md5(imports)\n",
    "    return md5_hash\n",
    "\n",
    "file_path = \"rufus-4.4p.exe\"\n",
    "md5_hash = main(file_path)\n",
    "print(f\"MD5 Hash: {md5_hash}\")\n"
   ]
  },
  {
   "cell_type": "code",
   "execution_count": null,
   "id": "3faa752f-402e-470c-abf4-7cdbe6961cfb",
   "metadata": {},
   "outputs": [],
   "source": []
  }
 ],
 "metadata": {
  "kernelspec": {
   "display_name": "Python 3 (ipykernel)",
   "language": "python",
   "name": "python3"
  },
  "language_info": {
   "codemirror_mode": {
    "name": "ipython",
    "version": 3
   },
   "file_extension": ".py",
   "mimetype": "text/x-python",
   "name": "python",
   "nbconvert_exporter": "python",
   "pygments_lexer": "ipython3",
   "version": "3.11.9"
  }
 },
 "nbformat": 4,
 "nbformat_minor": 5
}
