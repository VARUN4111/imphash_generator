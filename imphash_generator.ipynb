{
 "cells": [
  {
   "cell_type": "code",
   "execution_count": 6,
   "id": "da151ca5-d49d-4a8d-8c33-31c241f13fa9",
   "metadata": {},
   "outputs": [
    {
     "name": "stdout",
     "output_type": "stream",
     "text": [
      "Imphash of rufus-4.4p.exe: daa01a2e7e70ef8b3ed0f442eacb2f8a\n"
     ]
    }
   ],
   "source": [
    "# This script will generarte Imhash of the given binary file\n",
    "\n",
    "import pefile\n",
    "\n",
    "def generate_imphash(file_path):\n",
    "    try:\n",
    "        pe = pefile.PE(file_path)\n",
    "        imphash = pe.get_imphash()\n",
    "        return imphash\n",
    "    except Exception as e:\n",
    "        print(f\"Error: {e}\")\n",
    "        return None\n",
    "\n",
    "if __name__ == \"__main__\":\n",
    "    file_path = \"rufus-4.4p.exe\"  \n",
    "    imphash = generate_imphash(file_path)\n",
    "    if imphash:\n",
    "        print(f\"Imphash of {file_path}: {imphash}\")\n"
   ]
  },
  {
   "cell_type": "code",
   "execution_count": null,
   "id": "47f147ee-ad53-47ef-8ec0-76bfab8164d9",
   "metadata": {},
   "outputs": [],
   "source": []
  }
 ],
 "metadata": {
  "kernelspec": {
   "display_name": "Python 3 (ipykernel)",
   "language": "python",
   "name": "python3"
  },
  "language_info": {
   "codemirror_mode": {
    "name": "ipython",
    "version": 3
   },
   "file_extension": ".py",
   "mimetype": "text/x-python",
   "name": "python",
   "nbconvert_exporter": "python",
   "pygments_lexer": "ipython3",
   "version": "3.11.9"
  }
 },
 "nbformat": 4,
 "nbformat_minor": 5
}
